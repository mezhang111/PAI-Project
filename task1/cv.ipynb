{
 "cells": [
  {
   "cell_type": "code",
   "execution_count": 9,
   "metadata": {},
   "outputs": [],
   "source": [
    "import os\n",
    "import typing\n",
    "from sklearn.gaussian_process.kernels import *\n",
    "import numpy as np\n",
    "from sklearn.gaussian_process import GaussianProcessRegressor\n",
    "from sklearn.model_selection import cross_val_score\n",
    "from sklearn.model_selection import KFold\n",
    "import matplotlib.pyplot as plt\n",
    "from matplotlib import cm\n",
    "from scipy import stats\n",
    "import scipy\n",
    "import sklearn.kernel_approximation\n",
    "from itertools import product\n",
    "from tqdm import tqdm\n",
    "np.set_printoptions(threshold=np.inf, linewidth=np.inf)"
   ]
  },
  {
   "cell_type": "code",
   "execution_count": 2,
   "metadata": {},
   "outputs": [],
   "source": [
    "# Set `EXTENDED_EVALUATION` to `True` in order to visualize your predictions.\n",
    "EXTENDED_EVALUATION = False\n",
    "EVALUATION_GRID_POINTS = 300  # Number of grid points used in extended evaluation\n",
    "EVALUATION_GRID_POINTS_3D = 50  # Number of points displayed in 3D during evaluation\n",
    "\n",
    "\n",
    "# Cost function constants\n",
    "THRESHOLD = 35.5\n",
    "COST_W_NORMAL = 1.0\n",
    "COST_W_OVERPREDICT = 5.0\n",
    "COST_W_THRESHOLD = 20.0"
   ]
  },
  {
   "cell_type": "code",
   "execution_count": 3,
   "metadata": {},
   "outputs": [],
   "source": [
    "from cv import *"
   ]
  },
  {
   "cell_type": "code",
   "execution_count": 4,
   "metadata": {},
   "outputs": [],
   "source": [
    "train_x = np.loadtxt('train_x.csv', delimiter=',', skiprows=1)\n",
    "train_y = np.loadtxt('train_y.csv', delimiter=',', skiprows=1)\n",
    "test_x = np.loadtxt('test_x.csv', delimiter=',', skiprows=1)"
   ]
  },
  {
   "cell_type": "code",
   "execution_count": 7,
   "metadata": {},
   "outputs": [
    {
     "data": {
      "text/plain": [
       "28"
      ]
     },
     "execution_count": 7,
     "metadata": {},
     "output_type": "execute_result"
    }
   ],
   "source": [
    "c = [2**x for x in range(3, 10)]  # first round in [2^-1, 2^4]\n",
    "h = [2**x for x in range(-7, -3)]  # first round in [2^-5, 2^1]\n",
    "#nu = [0.5, 1.5, 2.5, float('inf')]\n",
    "nu = [0.5]\n",
    "parameters = list(product(c, h, nu))\n",
    "len(parameters)"
   ]
  },
  {
   "cell_type": "code",
   "execution_count": null,
   "metadata": {},
   "outputs": [],
   "source": [
    "c = np.arange(60, 72, 2)#[2**x for x in range(3, 10)]  # first round in [2^-1, 2^4]\n",
    "h = np.logspace(-7,-3, num=5, base=2.0) #[2**x for x in range(-7, -3)]  # first round in [2^-5, 2^1]\n",
    "#nu = [0.5, 1.5, 2.5, float('inf')]\n",
    "nu = np.array((0.5, 1.5, 2.5, float('inf')))\n",
    "parameters = list(product(c, h, [nu[0]]))\n",
    "print(f'c: {repr(c)}\\nh: {repr(h)}\\nnu: {repr(nu)}\\nlen paras: {len(parameters)}')"
   ]
  },
  {
   "cell_type": "code",
   "execution_count": 8,
   "metadata": {},
   "outputs": [
    {
     "name": "stderr",
     "output_type": "stream",
     "text": [
      "  4%|▎         | 1/28 [03:36<1:37:31, 216.72s/it]"
     ]
    },
    {
     "name": "stdout",
     "output_type": "stream",
     "text": [
      "\n",
      "c, h, nu: 8, 0.0078125, 0.5, error: 38.7953822179778\n",
      "\n"
     ]
    },
    {
     "name": "stderr",
     "output_type": "stream",
     "text": [
      "  7%|▋         | 2/28 [07:22<1:36:13, 222.05s/it]"
     ]
    },
    {
     "name": "stdout",
     "output_type": "stream",
     "text": [
      "\n",
      "c, h, nu: 8, 0.015625, 0.5, error: 18.757857111837694\n",
      "\n"
     ]
    },
    {
     "name": "stderr",
     "output_type": "stream",
     "text": [
      " 11%|█         | 3/28 [11:07<1:33:00, 223.22s/it]"
     ]
    },
    {
     "name": "stdout",
     "output_type": "stream",
     "text": [
      "\n",
      "c, h, nu: 8, 0.03125, 0.5, error: 21.19983706755356\n",
      "\n"
     ]
    },
    {
     "name": "stderr",
     "output_type": "stream",
     "text": [
      " 14%|█▍        | 4/28 [14:38<1:27:28, 218.67s/it]"
     ]
    },
    {
     "name": "stdout",
     "output_type": "stream",
     "text": [
      "\n",
      "c, h, nu: 8, 0.0625, 0.5, error: 22.272068462451816\n",
      "\n"
     ]
    },
    {
     "name": "stderr",
     "output_type": "stream",
     "text": [
      " 18%|█▊        | 5/28 [18:56<1:29:11, 232.68s/it]"
     ]
    },
    {
     "name": "stdout",
     "output_type": "stream",
     "text": [
      "\n",
      "c, h, nu: 16, 0.0078125, 0.5, error: 38.805336690453984\n",
      "\n"
     ]
    },
    {
     "name": "stderr",
     "output_type": "stream",
     "text": [
      " 21%|██▏       | 6/28 [23:32<1:30:43, 247.43s/it]"
     ]
    },
    {
     "name": "stdout",
     "output_type": "stream",
     "text": [
      "\n",
      "c, h, nu: 16, 0.015625, 0.5, error: 18.445858043245302\n",
      "\n"
     ]
    },
    {
     "name": "stderr",
     "output_type": "stream",
     "text": [
      " 25%|██▌       | 7/28 [28:49<1:34:36, 270.30s/it]"
     ]
    },
    {
     "name": "stdout",
     "output_type": "stream",
     "text": [
      "\n",
      "c, h, nu: 16, 0.03125, 0.5, error: 21.02464369377659\n",
      "\n"
     ]
    },
    {
     "name": "stderr",
     "output_type": "stream",
     "text": [
      " 29%|██▊       | 8/28 [32:23<1:24:04, 252.24s/it]"
     ]
    },
    {
     "name": "stdout",
     "output_type": "stream",
     "text": [
      "\n",
      "c, h, nu: 16, 0.0625, 0.5, error: 22.17243332457661\n",
      "\n"
     ]
    },
    {
     "name": "stderr",
     "output_type": "stream",
     "text": [
      " 32%|███▏      | 9/28 [35:56<1:15:59, 239.99s/it]"
     ]
    },
    {
     "name": "stdout",
     "output_type": "stream",
     "text": [
      "\n",
      "c, h, nu: 32, 0.0078125, 0.5, error: 39.21655026664135\n",
      "\n"
     ]
    },
    {
     "name": "stderr",
     "output_type": "stream",
     "text": [
      " 36%|███▌      | 10/28 [39:29<1:09:30, 231.70s/it]"
     ]
    },
    {
     "name": "stdout",
     "output_type": "stream",
     "text": [
      "\n",
      "c, h, nu: 32, 0.015625, 0.5, error: 17.971180735950295\n",
      "\n"
     ]
    },
    {
     "name": "stderr",
     "output_type": "stream",
     "text": [
      " 39%|███▉      | 11/28 [43:02<1:04:03, 226.09s/it]"
     ]
    },
    {
     "name": "stdout",
     "output_type": "stream",
     "text": [
      "\n",
      "c, h, nu: 32, 0.03125, 0.5, error: 20.802272386278336\n",
      "\n"
     ]
    },
    {
     "name": "stderr",
     "output_type": "stream",
     "text": [
      " 43%|████▎     | 12/28 [46:36<59:17, 222.36s/it]  "
     ]
    },
    {
     "name": "stdout",
     "output_type": "stream",
     "text": [
      "\n",
      "c, h, nu: 32, 0.0625, 0.5, error: 22.091413912375785\n",
      "\n"
     ]
    },
    {
     "name": "stderr",
     "output_type": "stream",
     "text": [
      " 46%|████▋     | 13/28 [50:09<54:49, 219.31s/it]"
     ]
    },
    {
     "name": "stdout",
     "output_type": "stream",
     "text": [
      "\n",
      "c, h, nu: 64, 0.0078125, 0.5, error: 39.57798810556159\n",
      "\n"
     ]
    },
    {
     "name": "stderr",
     "output_type": "stream",
     "text": [
      " 50%|█████     | 14/28 [53:42<50:43, 217.41s/it]"
     ]
    },
    {
     "name": "stdout",
     "output_type": "stream",
     "text": [
      "\n",
      "c, h, nu: 64, 0.015625, 0.5, error: 17.467545943113425\n",
      "\n"
     ]
    },
    {
     "name": "stderr",
     "output_type": "stream",
     "text": [
      " 54%|█████▎    | 15/28 [57:13<46:43, 215.66s/it]"
     ]
    },
    {
     "name": "stdout",
     "output_type": "stream",
     "text": [
      "\n",
      "c, h, nu: 64, 0.03125, 0.5, error: 20.467030967712475\n",
      "\n"
     ]
    },
    {
     "name": "stderr",
     "output_type": "stream",
     "text": [
      " 57%|█████▋    | 16/28 [1:00:45<42:54, 214.57s/it]"
     ]
    },
    {
     "name": "stdout",
     "output_type": "stream",
     "text": [
      "\n",
      "c, h, nu: 64, 0.0625, 0.5, error: 21.948184099399185\n",
      "\n"
     ]
    },
    {
     "name": "stderr",
     "output_type": "stream",
     "text": [
      " 61%|██████    | 17/28 [1:04:45<40:42, 222.04s/it]"
     ]
    },
    {
     "name": "stdout",
     "output_type": "stream",
     "text": [
      "\n",
      "c, h, nu: 128, 0.0078125, 0.5, error: 38.26542378417925\n",
      "\n"
     ]
    },
    {
     "name": "stderr",
     "output_type": "stream",
     "text": [
      " 64%|██████▍   | 18/28 [1:08:55<38:26, 230.62s/it]"
     ]
    },
    {
     "name": "stdout",
     "output_type": "stream",
     "text": [
      "\n",
      "c, h, nu: 128, 0.015625, 0.5, error: 16.874929690129257\n",
      "\n"
     ]
    },
    {
     "name": "stderr",
     "output_type": "stream",
     "text": [
      " 68%|██████▊   | 19/28 [1:13:12<35:46, 238.46s/it]"
     ]
    },
    {
     "name": "stdout",
     "output_type": "stream",
     "text": [
      "\n",
      "c, h, nu: 128, 0.03125, 0.5, error: 20.0433992998351\n",
      "\n"
     ]
    },
    {
     "name": "stderr",
     "output_type": "stream",
     "text": [
      " 71%|███████▏  | 20/28 [1:17:05<31:34, 236.82s/it]"
     ]
    },
    {
     "name": "stdout",
     "output_type": "stream",
     "text": [
      "\n",
      "c, h, nu: 128, 0.0625, 0.5, error: 21.773160587036266\n",
      "\n"
     ]
    },
    {
     "name": "stderr",
     "output_type": "stream",
     "text": [
      " 75%|███████▌  | 21/28 [1:22:41<31:06, 266.64s/it]"
     ]
    },
    {
     "name": "stdout",
     "output_type": "stream",
     "text": [
      "\n",
      "c, h, nu: 256, 0.0078125, 0.5, error: 36.34577380079426\n",
      "\n"
     ]
    },
    {
     "name": "stderr",
     "output_type": "stream",
     "text": [
      " 79%|███████▊  | 22/28 [1:31:04<33:46, 337.69s/it]"
     ]
    },
    {
     "name": "stdout",
     "output_type": "stream",
     "text": [
      "\n",
      "c, h, nu: 256, 0.015625, 0.5, error: 16.535147812335214\n",
      "\n"
     ]
    },
    {
     "name": "stderr",
     "output_type": "stream",
     "text": [
      " 82%|████████▏ | 23/28 [1:38:46<31:14, 374.97s/it]"
     ]
    },
    {
     "name": "stdout",
     "output_type": "stream",
     "text": [
      "\n",
      "c, h, nu: 256, 0.03125, 0.5, error: 19.48613314158107\n",
      "\n"
     ]
    },
    {
     "name": "stderr",
     "output_type": "stream",
     "text": [
      " 86%|████████▌ | 24/28 [1:44:38<24:32, 368.01s/it]"
     ]
    },
    {
     "name": "stdout",
     "output_type": "stream",
     "text": [
      "\n",
      "c, h, nu: 256, 0.0625, 0.5, error: 21.443462170666727\n",
      "\n"
     ]
    },
    {
     "name": "stderr",
     "output_type": "stream",
     "text": [
      " 89%|████████▉ | 25/28 [1:48:58<16:46, 335.42s/it]"
     ]
    },
    {
     "name": "stdout",
     "output_type": "stream",
     "text": [
      "\n",
      "c, h, nu: 512, 0.0078125, 0.5, error: 35.7824288880004\n",
      "\n"
     ]
    },
    {
     "name": "stderr",
     "output_type": "stream",
     "text": [
      " 93%|█████████▎| 26/28 [1:54:00<10:50, 325.48s/it]"
     ]
    },
    {
     "name": "stdout",
     "output_type": "stream",
     "text": [
      "\n",
      "c, h, nu: 512, 0.015625, 0.5, error: 16.642406501204977\n",
      "\n"
     ]
    },
    {
     "name": "stderr",
     "output_type": "stream",
     "text": [
      " 96%|█████████▋| 27/28 [1:58:10<05:02, 302.87s/it]"
     ]
    },
    {
     "name": "stdout",
     "output_type": "stream",
     "text": [
      "\n",
      "c, h, nu: 512, 0.03125, 0.5, error: 18.770639339997295\n",
      "\n"
     ]
    },
    {
     "name": "stderr",
     "output_type": "stream",
     "text": [
      "100%|██████████| 28/28 [2:01:52<00:00, 261.16s/it]"
     ]
    },
    {
     "name": "stdout",
     "output_type": "stream",
     "text": [
      "\n",
      "c, h, nu: 512, 0.0625, 0.5, error: 21.071195657250954\n",
      "\n",
      "16.535147812335214\n",
      "(256, 0.015625, 0.5)\n"
     ]
    },
    {
     "name": "stderr",
     "output_type": "stream",
     "text": [
      "\n"
     ]
    }
   ],
   "source": [
    "best_param, index, parameters, errors = cv(parameters, train_x, train_y)"
   ]
  },
  {
   "cell_type": "code",
   "execution_count": null,
   "metadata": {},
   "outputs": [],
   "source": []
  },
  {
   "cell_type": "code",
   "execution_count": null,
   "metadata": {},
   "outputs": [],
   "source": []
  },
  {
   "cell_type": "code",
   "execution_count": null,
   "metadata": {},
   "outputs": [],
   "source": []
  },
  {
   "cell_type": "markdown",
   "metadata": {},
   "source": [
    "  8%|▊         | 1/12 [03:03<33:42, 183.90s/it]\n",
    "\n",
    "\n",
    "c, h, nu: 8, 0.015625, 0.5, error: 18.757857111837694\n",
    "\n",
    " 17%|█▋        | 2/12 [06:06<30:34, 183.41s/it]\n",
    "\n",
    "\n",
    "c, h, nu: 8, 0.03125, 0.5, error: 21.19983706755356\n",
    "\n",
    " 25%|██▌       | 3/12 [09:14<27:47, 185.28s/it]\n",
    "\n",
    "\n",
    "c, h, nu: 8, 0.0625, 0.5, error: 22.272068462451816\n",
    "\n",
    " 33%|███▎      | 4/12 [12:26<25:05, 188.13s/it]\n",
    "\n",
    "\n",
    "c, h, nu: 16, 0.015625, 0.5, error: 18.445858043245302\n",
    "\n",
    " 42%|████▏     | 5/12 [15:37<22:02, 188.86s/it]\n",
    "\n",
    "\n",
    "c, h, nu: 16, 0.03125, 0.5, error: 21.02464369377659\n",
    "\n",
    " 50%|█████     | 6/12 [18:47<18:57, 189.52s/it]\n",
    "\n",
    "\n",
    "c, h, nu: 16, 0.0625, 0.5, error: 22.17243332457661\n",
    "\n",
    " 58%|█████▊    | 7/12 [22:00<15:53, 190.61s/it]\n",
    "\n",
    "\n",
    "c, h, nu: 32, 0.015625, 0.5, error: 17.971180735950295\n",
    "\n",
    " 67%|██████▋   | 8/12 [25:41<13:20, 200.18s/it]\n",
    "\n",
    "\n",
    "c, h, nu: 32, 0.03125, 0.5, error: 20.802272386278336\n",
    "\n",
    " 75%|███████▌  | 9/12 [29:15<10:13, 204.38s/it]\n",
    "\n",
    "\n",
    "c, h, nu: 32, 0.0625, 0.5, error: 22.091413912375785\n",
    "\n",
    " 83%|████████▎ | 10/12 [32:23<06:38, 199.46s/it]\n",
    "\n",
    "\n",
    "c, h, nu: 64, 0.015625, 0.5, error: 17.467545943113425\n",
    "\n",
    " 92%|█████████▏| 11/12 [35:31<03:15, 195.97s/it]\n",
    "\n",
    "\n",
    "c, h, nu: 64, 0.03125, 0.5, error: 20.467030967712475\n",
    "\n",
    "100%|██████████| 12/12 [39:02<00:00, 195.22s/it]\n",
    "\n",
    "\n",
    "c, h, nu: 64, 0.0625, 0.5, error: 21.948184099399185\n",
    "\n",
    "17.467545943113425\n",
    "(64, 0.015625, 0.5)\n"
   ]
  }
 ],
 "metadata": {
  "kernelspec": {
   "display_name": "pai1",
   "language": "python",
   "name": "pai1"
  },
  "language_info": {
   "codemirror_mode": {
    "name": "ipython",
    "version": 3
   },
   "file_extension": ".py",
   "mimetype": "text/x-python",
   "name": "python",
   "nbconvert_exporter": "python",
   "pygments_lexer": "ipython3",
   "version": "3.8.5"
  }
 },
 "nbformat": 4,
 "nbformat_minor": 4
}
